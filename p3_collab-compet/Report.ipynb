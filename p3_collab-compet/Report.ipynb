{
 "cells": [
  {
   "cell_type": "markdown",
   "metadata": {},
   "source": [
    "# Collaboration and Competition Project Report\n",
    "\n",
    "---\n",
    "\n",
    "### 1.Examination of State and Action Spaces\n",
    "\n",
    "In this environment, two agents control rackets to bounce a ball over a net. If an agent hits the ball over the net, it receives a reward of +0.1. If an agent lets a ball hit the ground or hits the ball out of bounds, it receives a reward of -0.01. Thus, the goal of each agent is to keep the ball in play.\n",
    "\n",
    "The observation space consists of 8 variables corresponding to the position and velocity of the ball and racket. Each agent receives its own, local observation. Two continuous actions are available, corresponding to movement toward (or away from) the net, and jumping.\n",
    "\n",
    "The task is episodic, and in order to solve the environment, your agents must get an average score of +0.5 (over 100 consecutive episodes, after taking the maximum over both agents). Specifically,\n",
    "\n",
    "After each episode, we add up the rewards that each agent received (without discounting), to get a score for each agent. This yields 2 (potentially different) scores. We then take the maximum of these 2 scores.\n",
    "This yields a single score for each episode.\n",
    "The environment is considered solved, when the average (over 100 episodes) of those scores is at least +0.5."
   ]
  },
  {
   "cell_type": "markdown",
   "metadata": {},
   "source": [
    "### 2. Algorithm\n",
    "\n",
    "Algorithm is DDPG. DDPG algorithm uses two seperate network which are working collaboratively; actor and critic. Actor network does policiy approximation where critic does value estimation. Training of this network composed out of two steps; acting and learning. In acting step, agent gives state vector as an input to Actor network and receives actions to be taken. In learning step, Critic network evaluates correctness of action taken and gives feed to Actor network so Actor network adjust its weights accordingly.\n",
    "\n",
    "DDPG is used for multi-agent system. It is adapted to simultaneously train both agents through self-play. Each agent used the same actor network to select actions, and the experience was added to a shared replay buffer."
   ]
  },
  {
   "cell_type": "code",
   "execution_count": 7,
   "metadata": {},
   "outputs": [],
   "source": [
    "from model import Actor, Critic\n",
    "from agent import Agent\n",
    "\n",
    "import pandas as pd\n",
    "import matplotlib.pyplot as plt\n",
    "import random\n",
    "import copy\n",
    "import time\n",
    "from collections import namedtuple, deque\n",
    "from typing import NamedTuple\n",
    "import torch\n",
    "import torch.nn as nn\n",
    "import torch.nn.functional as F\n",
    "import torch.optim as optim"
   ]
  },
  {
   "cell_type": "code",
   "execution_count": 8,
   "metadata": {},
   "outputs": [],
   "source": [
    "class Config(NamedTuple):\n",
    "    num_workers: int = 2\n",
    "    episode_count: int = 10000\n",
    "    buffer_size = int(1e5)  \n",
    "    mini_batch_size: int = 1024\n",
    "        \n",
    "class DeviceConfig:\n",
    "    DEVICE = torch.device('cpu')"
   ]
  },
  {
   "cell_type": "code",
   "execution_count": 9,
   "metadata": {},
   "outputs": [],
   "source": [
    "device = torch.device(\"cuda:0\" if torch.cuda.is_available() else \"cpu\")\n",
    "DeviceConfig.device = device\n",
    "\n",
    "config = Config(num_workers=num_agents)"
   ]
  },
  {
   "cell_type": "markdown",
   "metadata": {},
   "source": [
    "### 3. Networks\n",
    "\n",
    "#### Actor Network\n",
    "\n",
    "input size = 24 output size = 2. One hidden layers and one output layer each hidden layer has 256 hidden units and is followed by a ReLU activation layer. A batch normalization layer after the first layer Output layer is followed by a tanh activation layer\n",
    "\n",
    "#### Critic Network\n",
    "\n",
    "input size = 33 output size = 1. One hidden layers and one output layer each hidden layer has 256 hidden units and is followed by a ReLU activation layer A batch normalization layer after the first layer. Output layer is followed no activation unit\n",
    "\n",
    "#### Hyperparameters\n",
    "\n",
    "Mini batch size = 1024\n",
    "Tau = 0.001\n",
    "Gamma = 0.99\n",
    "Learning rate of actor = 0.001\n",
    "Learning rate of critic = 0.001\n",
    "Weight decay = 0\n",
    "Epsilon minimum = 0.1\n",
    "Epsilon maximum = 1.0"
   ]
  },
  {
   "cell_type": "code",
   "execution_count": 10,
   "metadata": {},
   "outputs": [],
   "source": [
    "def ddpg(agent, max_step=10000, train_mode=True):\n",
    "    scores_window = deque(maxlen=100)\n",
    "    scores = []\n",
    "        \n",
    "    for i in range(1, config.episode_count+1):\n",
    "        begin = time.time()\n",
    "        \n",
    "        env_info = env.reset(train_mode=train_mode)[brain_name]\n",
    "        states = env_info.vector_observations\n",
    "        scores_run = np.zeros(num_agents)\n",
    "\n",
    "        for t in range(max_step): \n",
    "            actions = agent.act(states)\n",
    "            env_info = env.step(actions)[brain_name]\n",
    "            next_states = env_info.vector_observations \n",
    "            rewards = env_info.rewards\n",
    "            dones = env_info.local_done\n",
    "            if train_mode:\n",
    "                agent.step(states, actions, rewards, next_states, dones)\n",
    "\n",
    "            states = next_states\n",
    "            scores_run += rewards \n",
    "            if np.any(dones):\n",
    "                break\n",
    "\n",
    "        score = np.mean(scores_run)\n",
    "\n",
    "        scores_window.append(score)\n",
    "        score_average = np.mean(scores_window)\n",
    "        scores.append(score)\n",
    "        \n",
    "        if i % 50 == 0:\n",
    "            print('\\rEpisode {} Average score: {:.2f} Min: {:.2f} Max: {:.2f} Time: {:.2f} Epsilon: {:.2f}'.format(\n",
    "                i, \n",
    "                score_average, \n",
    "                np.min(scores), \n",
    "                np.max(scores), \n",
    "                time.time() - begin,\n",
    "                agent.epsilon\n",
    "            ))        \n",
    "                    \n",
    "        if score_average >= 0.5:\n",
    "            torch.save(agent.actor_local.state_dict(), 'checkpoint_actor.pth')\n",
    "            torch.save(agent.critic_local.state_dict(), 'checkpoint_critic.pth')\n",
    "            print('\\nSolve in {:d} episodes. Average score: {:.2f}'.format(i, score_average))            \n",
    "            break            \n",
    "            \n",
    "    return scores"
   ]
  },
  {
   "cell_type": "code",
   "execution_count": 17,
   "metadata": {},
   "outputs": [
    {
     "name": "stdout",
     "output_type": "stream",
     "text": [
      "Episode 50 Average score: -0.00 Min: -0.00 Max: 0.05 Time: 0.36 Epsilon: 1.00\n",
      "Episode 100 Average score: -0.00 Min: -0.00 Max: 0.05 Time: 0.37 Epsilon: 1.00\n",
      "Episode 150 Average score: -0.00 Min: -0.00 Max: 0.05 Time: 0.36 Epsilon: 1.00\n",
      "Episode 200 Average score: -0.00 Min: -0.00 Max: 0.05 Time: 0.37 Epsilon: 1.00\n",
      "Episode 250 Average score: -0.00 Min: -0.00 Max: 0.05 Time: 0.36 Epsilon: 1.00\n",
      "Episode 300 Average score: 0.00 Min: -0.00 Max: 0.05 Time: 1.04 Epsilon: 1.00\n",
      "Episode 350 Average score: 0.00 Min: -0.00 Max: 0.05 Time: 0.37 Epsilon: 1.00\n",
      "Episode 400 Average score: -0.00 Min: -0.00 Max: 0.05 Time: 0.37 Epsilon: 1.00\n",
      "Episode 450 Average score: -0.00 Min: -0.00 Max: 0.05 Time: 0.36 Epsilon: 1.00\n",
      "Episode 500 Average score: -0.00 Min: -0.00 Max: 0.05 Time: 0.37 Epsilon: 1.00\n",
      "Episode 550 Average score: -0.00 Min: -0.00 Max: 0.15 Time: 0.37 Epsilon: 1.00\n",
      "Episode 600 Average score: 0.00 Min: -0.00 Max: 0.15 Time: 0.37 Epsilon: 1.00\n",
      "Episode 650 Average score: 0.01 Min: -0.00 Max: 0.15 Time: 1.06 Epsilon: 1.00\n",
      "Episode 700 Average score: 0.01 Min: -0.00 Max: 0.15 Time: 1.07 Epsilon: 1.00\n",
      "Episode 750 Average score: 0.01 Min: -0.00 Max: 0.15 Time: 0.69 Epsilon: 1.00\n",
      "Episode 800 Average score: 0.01 Min: -0.00 Max: 0.15 Time: 0.70 Epsilon: 1.00\n",
      "Episode 850 Average score: 0.02 Min: -0.00 Max: 0.15 Time: 0.38 Epsilon: 1.00\n",
      "Episode 900 Average score: 0.01 Min: -0.00 Max: 0.15 Time: 0.37 Epsilon: 1.00\n",
      "Episode 950 Average score: 0.00 Min: -0.00 Max: 0.15 Time: 0.37 Epsilon: 1.00\n",
      "Episode 1000 Average score: 0.00 Min: -0.00 Max: 0.15 Time: 1.08 Epsilon: 1.00\n",
      "Episode 1050 Average score: 0.00 Min: -0.00 Max: 0.15 Time: 0.39 Epsilon: 1.00\n",
      "Episode 1100 Average score: 0.01 Min: -0.01 Max: 0.15 Time: 1.08 Epsilon: 1.00\n",
      "Episode 1150 Average score: 0.02 Min: -0.01 Max: 0.15 Time: 0.69 Epsilon: 1.00\n",
      "Episode 1200 Average score: 0.03 Min: -0.01 Max: 0.15 Time: 1.09 Epsilon: 1.00\n",
      "Episode 1250 Average score: 0.03 Min: -0.01 Max: 0.25 Time: 0.73 Epsilon: 1.00\n",
      "Episode 1300 Average score: 0.02 Min: -0.01 Max: 0.25 Time: 0.38 Epsilon: 1.00\n",
      "Episode 1350 Average score: 0.01 Min: -0.01 Max: 0.25 Time: 0.38 Epsilon: 1.00\n",
      "Episode 1400 Average score: 0.01 Min: -0.01 Max: 0.25 Time: 1.12 Epsilon: 1.00\n",
      "Episode 1450 Average score: 0.01 Min: -0.01 Max: 0.25 Time: 0.38 Epsilon: 1.00\n",
      "Episode 1500 Average score: 0.01 Min: -0.01 Max: 0.25 Time: 0.38 Epsilon: 1.00\n",
      "Episode 1550 Average score: 0.01 Min: -0.01 Max: 0.25 Time: 0.73 Epsilon: 1.00\n",
      "Episode 1600 Average score: 0.01 Min: -0.01 Max: 0.25 Time: 0.70 Epsilon: 1.00\n",
      "Episode 1650 Average score: 0.04 Min: -0.01 Max: 0.25 Time: 0.74 Epsilon: 1.00\n",
      "Episode 1700 Average score: 0.05 Min: -0.01 Max: 0.25 Time: 1.11 Epsilon: 1.00\n",
      "Episode 1750 Average score: 0.06 Min: -0.01 Max: 0.30 Time: 1.86 Epsilon: 1.00\n",
      "Episode 1800 Average score: 0.08 Min: -0.01 Max: 0.30 Time: 2.93 Epsilon: 1.00\n",
      "Episode 1850 Average score: 0.07 Min: -0.01 Max: 0.30 Time: 0.71 Epsilon: 1.00\n",
      "Episode 1900 Average score: 0.06 Min: -0.01 Max: 0.30 Time: 3.02 Epsilon: 1.00\n",
      "Episode 1950 Average score: 0.07 Min: -0.01 Max: 0.70 Time: 1.13 Epsilon: 1.00\n",
      "Episode 2000 Average score: 0.08 Min: -0.01 Max: 0.70 Time: 4.87 Epsilon: 1.00\n",
      "Episode 2050 Average score: 0.07 Min: -0.01 Max: 0.70 Time: 1.91 Epsilon: 1.00\n",
      "Episode 2100 Average score: 0.11 Min: -0.01 Max: 1.20 Time: 10.37 Epsilon: 1.00\n",
      "Episode 2150 Average score: 0.13 Min: -0.01 Max: 1.20 Time: 5.06 Epsilon: 1.00\n",
      "Episode 2200 Average score: 0.13 Min: -0.01 Max: 1.20 Time: 2.71 Epsilon: 1.00\n",
      "Episode 2250 Average score: 0.12 Min: -0.01 Max: 1.20 Time: 2.74 Epsilon: 1.00\n",
      "Episode 2300 Average score: 0.12 Min: -0.01 Max: 1.20 Time: 1.95 Epsilon: 1.00\n",
      "Episode 2350 Average score: 0.12 Min: -0.01 Max: 1.20 Time: 3.46 Epsilon: 1.00\n",
      "Episode 2400 Average score: 0.16 Min: -0.01 Max: 1.20 Time: 2.31 Epsilon: 1.00\n",
      "Episode 2450 Average score: 0.17 Min: -0.01 Max: 1.20 Time: 2.75 Epsilon: 1.00\n",
      "Episode 2500 Average score: 0.18 Min: -0.01 Max: 1.25 Time: 0.40 Epsilon: 1.00\n",
      "Episode 2550 Average score: 0.23 Min: -0.01 Max: 2.30 Time: 1.93 Epsilon: 1.00\n",
      "Episode 2600 Average score: 0.39 Min: -0.01 Max: 2.60 Time: 1.19 Epsilon: 1.00\n",
      "Episode 2650 Average score: 0.47 Min: -0.01 Max: 2.60 Time: 8.80 Epsilon: 1.00\n",
      "Episode 2700 Average score: 0.43 Min: -0.01 Max: 2.65 Time: 17.83 Epsilon: 1.00\n",
      "Episode 2750 Average score: 0.43 Min: -0.01 Max: 2.65 Time: 1.18 Epsilon: 1.00\n",
      "Episode 2800 Average score: 0.33 Min: -0.01 Max: 2.65 Time: 0.40 Epsilon: 1.00\n",
      "Episode 2850 Average score: 0.27 Min: -0.01 Max: 2.65 Time: 2.29 Epsilon: 1.00\n",
      "Episode 2900 Average score: 0.42 Min: -0.01 Max: 2.65 Time: 2.33 Epsilon: 1.00\n",
      "Episode 2950 Average score: 0.44 Min: -0.01 Max: 2.65 Time: 38.97 Epsilon: 1.00\n",
      "\n",
      "Solve in 2966 episodes. Average score: 0.50\n"
     ]
    }
   ],
   "source": [
    "rand_seed = 0\n",
    "agent = Agent(config=config,\n",
    "              state_size=state_size, \n",
    "              action_size=action_size, \n",
    "              num_agents=num_agents, \n",
    "              random_seed=rand_seed,\n",
    "              device=device)\n",
    "\n",
    "scores = ddpg(agent)"
   ]
  },
  {
   "cell_type": "markdown",
   "metadata": {},
   "source": [
    "### 4. Plot of Rewards"
   ]
  },
  {
   "cell_type": "code",
   "execution_count": 18,
   "metadata": {},
   "outputs": [
    {
     "data": {
      "image/png": "[encoded data removed]",
      "text/plain": [
       "<matplotlib.figure.Figure at 0x7f555d450518>"
      ]
     },
     "metadata": {
      "needs_background": "light"
     },
     "output_type": "display_data"
    }
   ],
   "source": [
    "fig = plt.figure()\n",
    "ax = fig.add_subplot(111)\n",
    "plt.plot(np.arange(len(scores)), scores)\n",
    "plt.ylabel('Score')\n",
    "plt.xlabel('Episode')\n",
    "plt.show()"
   ]
  },
  {
   "cell_type": "code",
   "execution_count": 19,
   "metadata": {},
   "outputs": [
    {
     "name": "stdout",
     "output_type": "stream",
     "text": [
      "\n",
      "Solve in 1 episodes. Average score: 2.65\n"
     ]
    }
   ],
   "source": [
    "rand_seed = 0\n",
    "agent = Agent(config=config,\n",
    "              state_size=state_size, \n",
    "              action_size=action_size, \n",
    "              num_agents=num_agents, \n",
    "              random_seed=rand_seed,\n",
    "              device=torch.device('cpu'),\n",
    "              actor_trained_weight_filename=\"checkpoint_actor.pth\", \n",
    "              critic_trained_weight_filename=\"checkpoint_critic.pth\")\n",
    "\n",
    "scores_test = ddpg(agent, train_mode=False)"
   ]
  },
  {
   "cell_type": "code",
   "execution_count": 20,
   "metadata": {},
   "outputs": [],
   "source": [
    "env.close()"
   ]
  },
  {
   "cell_type": "markdown",
   "metadata": {},
   "source": [
    "### Future Work\n",
    "\n",
    "MADDPG is a efficiently working network for such two agent problem. Some further tricks can be investigated using different environments to see what could be fallbacks of this network to improve it. Without doing such a research we could better train it. Training duration is long, high number of episode is required. Weights could be cleverly initialized like transfer learning so convergence can be fasten."
   ]
  },
  {
   "cell_type": "code",
   "execution_count": null,
   "metadata": {},
   "outputs": [],
   "source": []
  }
 ],
 "metadata": {
  "kernelspec": {
   "display_name": "Python 3",
   "language": "python",
   "name": "python3"
  },
  "language_info": {
   "codemirror_mode": {
    "name": "ipython",
    "version": 3
   },
   "file_extension": ".py",
   "mimetype": "text/x-python",
   "name": "python",
   "nbconvert_exporter": "python",
   "pygments_lexer": "ipython3",
   "version": "3.6.3"
  }
 },
 "nbformat": 4,
 "nbformat_minor": 2
}
